{
 "cells": [
  {
   "cell_type": "markdown",
   "metadata": {},
   "source": [
    "# Reading and writing files"
   ]
  },
  {
   "cell_type": "code",
   "execution_count": null,
   "metadata": {},
   "outputs": [],
   "source": [
    "with open('data/robot_journey.txt') as f:\n",
    "    print(f.read())"
   ]
  },
  {
   "cell_type": "markdown",
   "metadata": {},
   "source": [
    "*Note: `with` is for context managers. It handles resource clear-up when the context is exited.*"
   ]
  },
  {
   "cell_type": "markdown",
   "metadata": {},
   "source": [
    "## File handlers"
   ]
  },
  {
   "cell_type": "markdown",
   "metadata": {},
   "source": [
    "Iteration, `readline`, `readlines`. Parse the lines of a file sequentially"
   ]
  },
  {
   "cell_type": "code",
   "execution_count": null,
   "metadata": {},
   "outputs": [],
   "source": []
  },
  {
   "cell_type": "markdown",
   "metadata": {},
   "source": [
    "Writing files and appending to file\n",
    "\n",
    "`f.write('something')`"
   ]
  },
  {
   "cell_type": "code",
   "execution_count": null,
   "metadata": {},
   "outputs": [],
   "source": []
  },
  {
   "cell_type": "markdown",
   "metadata": {},
   "source": [
    "## Exercise\n",
    "\n",
    "__copied from 10x.org.il__\n",
    "\n",
    "A robot on an exploration mission receives command file in the following fashion:\n",
    "\n",
    "```\n",
    "North 100\n",
    "East 200\n",
    "South 20\n",
    "East 50\n",
    "North 100\n",
    "West 30\n",
    "```\n",
    "\n",
    "Each command has a direction (North, East, South, West) and a distance (a number, in meters). You have to write a program that remembers its position and returns its horizontal and vertical distance from the base station (the starting point).\n",
    "\n",
    "For example, for the commands above the result will be (220,180).\n",
    "\n",
    "Write a function that receives a filename, opens it, parses the commands and returns the distance in x and y from home."
   ]
  },
  {
   "cell_type": "code",
   "execution_count": null,
   "metadata": {},
   "outputs": [],
   "source": [
    "def parse_commands(filename):\n",
    "    x, y = 0, 0\n",
    "    # --- WRITE YOUR CODE HERE --- #\n",
    "\n",
    "    # ---------------------------- #\n",
    "    return x, y\n",
    "\n",
    "\n",
    "assert parse_commands('data/robot_journey.txt') == (220, 180)"
   ]
  },
  {
   "cell_type": "markdown",
   "metadata": {},
   "source": [
    "## A note about long running processes\n",
    "\n",
    "Above is the \"vanilla\", pure python way of reading and writing files. Libraries provide ways to:\n",
    "- Read and write text files in multiple formats (e.g. csv, json, xml).\n",
    "- Access relational DBs (e.g. sqlite or postgres) and noSQL DBs (e.g. mongodb or redis).\n",
    "- Use binary data stores (e.g. HDF5).\n",
    "- Big data / distributed file systems. Don't know anything about these :-)\n",
    "\n",
    "Long running experiments:\n",
    "- Deep learning training or otherwise computationally intensive experiments.\n",
    "- Receiving data from the web / IoT that updates in real-time.\n",
    "- Scraping / otherwise rate limited web calls.\n",
    "\n",
    "**Make sure you keep your data at multiple intermediate steps, and log things that go wrong!**\n",
    "\n",
    "**Experiment management libraries are useful for this** "
   ]
  },
  {
   "cell_type": "code",
   "execution_count": null,
   "metadata": {},
   "outputs": [],
   "source": []
  }
 ],
 "metadata": {
  "kernelspec": {
   "display_name": "Python 3",
   "language": "python",
   "name": "python3"
  },
  "language_info": {
   "codemirror_mode": {
    "name": "ipython",
    "version": 3
   },
   "file_extension": ".py",
   "mimetype": "text/x-python",
   "name": "python",
   "nbconvert_exporter": "python",
   "pygments_lexer": "ipython3",
   "version": "3.6.6"
  }
 },
 "nbformat": 4,
 "nbformat_minor": 2
}
